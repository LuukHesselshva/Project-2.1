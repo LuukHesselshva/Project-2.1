{
 "cells": [
  {
   "cell_type": "code",
   "execution_count": null,
   "id": "967dcfe7",
   "metadata": {},
   "outputs": [],
   "source": [
    "# imports\n",
    "import numpy as np\n",
    "import matplotlib.pyplot as plt\n",
    "from scipy.optimize import curve_fit\n",
    "\n",
    "# constants\n",
    "lambda_laser = 532e-9 # wavelength of the laser in meters\n",
    "d_cuvett = 0.5e-3 # thickness in meters\n",
    "d_sugar= 1e-3 # thickness in meters\n",
    "\n",
    "n_cuvett = 1.33 # refractive index of the cuvett\n",
    "n_air = 1.0 # refractive index of air\n",
    "\n",
    "def N_fit_suiker(theta_in,n_sugar):\n",
    "    \"\"\"Function to fit the refractive index data.\"\"\"\n",
    "    theta_in_rad = np.deg2rad(theta_in)\n",
    "    \n",
    "    return 2/lambda_laser*(2*d_cuvett*(np.sqrt(n_cuvett**2 -n_air**2*np.sin(theta_in_rad)**2)-n_air*np.cos(theta_in_rad)) + d_sugar*(np.sqrt(n_sugar**2 -n_air**2*np.sin(theta_in_rad)**2)-n_air*np.cos(theta_in_rad))-(2*n_cuvett*d_cuvett + n_sugar*d_sugar - 2*d_cuvett*n_air-d_sugar*n_air))"
   ]
  }
 ],
 "metadata": {
  "language_info": {
   "name": "python"
  }
 },
 "nbformat": 4,
 "nbformat_minor": 5
}
