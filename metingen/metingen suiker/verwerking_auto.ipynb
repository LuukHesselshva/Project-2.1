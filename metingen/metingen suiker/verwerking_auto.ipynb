{
 "cells": [
  {
   "cell_type": "code",
   "execution_count": 3,
   "id": "13f6d24f",
   "metadata": {},
   "outputs": [],
   "source": [
    "import numpy as np\n",
    "import pandas as pd\n",
    "import matplotlib.pyplot as plt\n",
    "import os\n",
    "from scipy.optimize import curve_fit\n",
    "from scipy.signal import find_peaks"
   ]
  },
  {
   "cell_type": "code",
   "execution_count": 4,
   "id": "bae4c879",
   "metadata": {},
   "outputs": [],
   "source": [
    "os.chdir('C:\\\\Users\\\\luukj\\\\Documents\\\\GitHub\\\\Project-2.1\\\\metingen\\\\metingen suiker\\\\0.5')\n",
    "\n",
    "# constants\n",
    "lambda_laser = 532e-9 # wavelength of the laser in meters\n",
    "\n",
    "d_sugar= 1e-2 # thickness in meters\n",
    "d_cuvett = 1.25e-2 - d_sugar # thickness in meters\n",
    "\n",
    "n_cuvett = 1.59 # refractive index of the cuvett\n",
    "n_air = 1.0 # refractive index of air\n",
    "\n",
    "window_size = 5\n",
    "prom = 0.5"
   ]
  },
  {
   "cell_type": "code",
   "execution_count": 5,
   "id": "c5a558c2",
   "metadata": {},
   "outputs": [],
   "source": [
    "def read(name):\n",
    "    df = pd.read_csv(\n",
    "    str(name) +'.csv',\n",
    "    skiprows=2,\n",
    "    delimiter=',',\n",
    "    names=['X', 'CH1', 'dummy1', 'dummy2'],\n",
    "    engine='python'\n",
    "    )\n",
    "    return df\n",
    "\n",
    "def N_fit_suiker(theta_in,n_sugar):\n",
    "    \"\"\"Function to fit the refractive index data.\"\"\"\n",
    "    theta_in_rad = np.deg2rad(theta_in)\n",
    "    return 2/lambda_laser*(2*d_cuvett*(np.sqrt(n_cuvett**2 -n_air**2*np.sin(theta_in_rad)**2)-n_air*np.cos(theta_in_rad)) + d_sugar*(np.sqrt(n_sugar**2 -n_air**2*np.sin(theta_in_rad)**2)-n_air*np.cos(theta_in_rad))-(2*n_cuvett*d_cuvett + n_sugar*d_sugar - 2*d_cuvett*n_air-d_sugar*n_air))"
   ]
  },
  {
   "cell_type": "code",
   "execution_count": null,
   "id": "fc4b87b0",
   "metadata": {},
   "outputs": [
    {
     "ename": "ValueError",
     "evalue": "operands could not be broadcast together with shapes (12,) (20,) ",
     "output_type": "error",
     "traceback": [
      "\u001b[1;31m---------------------------------------------------------------------------\u001b[0m",
      "\u001b[1;31mValueError\u001b[0m                                Traceback (most recent call last)",
      "Cell \u001b[1;32mIn[6], line 21\u001b[0m\n\u001b[0;32m     19\u001b[0m fringes_0 \u001b[38;5;241m=\u001b[39m \u001b[38;5;241m0\u001b[39m\n\u001b[0;32m     20\u001b[0m fringes_02 \u001b[38;5;241m=\u001b[39m fringes_0 \u001b[38;5;241m+\u001b[39m peaks_02\n\u001b[1;32m---> 21\u001b[0m fringes_24 \u001b[38;5;241m=\u001b[39m \u001b[43mfringes_02\u001b[49m\u001b[43m \u001b[49m\u001b[38;5;241;43m+\u001b[39;49m\u001b[43m \u001b[49m\u001b[43mpeaks_24\u001b[49m\n\u001b[0;32m     22\u001b[0m fringes_46 \u001b[38;5;241m=\u001b[39m fringes_24 \u001b[38;5;241m+\u001b[39m peaks_46\n\u001b[0;32m     23\u001b[0m fringes_68 \u001b[38;5;241m=\u001b[39m fringes_46 \u001b[38;5;241m+\u001b[39m peaks_68\n",
      "\u001b[1;31mValueError\u001b[0m: operands could not be broadcast together with shapes (12,) (20,) "
     ]
    }
   ],
   "source": [
    "df02 = read('0.5ml_0g2g')\n",
    "df24 = read('0.5ml_2g4g')\n",
    "df46 = read('0.5ml_4g6g')\n",
    "df68 = read('0.5ml_6g8g')\n",
    "df810 = read('0.5ml_8g10g')\n",
    "# Rolling averages toevoegen\n",
    "df02['rolling'] = df02['CH1'].rolling(window=window_size, center=True).mean()\n",
    "df24['rolling'] = df24['CH1'].rolling(window=window_size, center=True).mean()\n",
    "df46['rolling'] = df46['CH1'].rolling(window=window_size, center=True).mean()\n",
    "df68['rolling'] = df68['CH1'].rolling(window=window_size, center=True).mean()\n",
    "df810['rolling'] = df810['CH1'].rolling(window=window_size, center=True).mean()\n",
    "\n",
    "peaks_02, props_02 = find_peaks(df02['rolling'], prominence=prom)\n",
    "peaks_24, props_24 = find_peaks(df24['rolling'], prominence=prom)\n",
    "peaks_46, props_46 = find_peaks(df46['rolling'], prominence=prom)\n",
    "peaks_68, props_68 = find_peaks(df68['rolling'], prominence=prom)\n",
    "peaks_810, props_810 = find_peaks(df810['rolling'], prominence=prom)\n",
    "\n",
    "fringes_0 = 0\n",
    "fringes_02 = fringes_0 + len(peaks_02)\n",
    "fringes_24 = fringes_02 + len(peaks_24)\n",
    "fringes_46 = fringes_24 + len(peaks_46)\n",
    "fringes_68 = fringes_46 + len(peaks_68)\n",
    "fringes_810 = fringes_68 + len(peaks_810)\n",
    "fringes = np.array([fringes_0,fringes_02,fringes_24,fringes_46,fringes_68,fringes_810])\n",
    "\n",
    "theta_graden = np.array([0,2,4,6,8,10])"
   ]
  },
  {
   "cell_type": "code",
   "execution_count": null,
   "id": "78f5701a",
   "metadata": {},
   "outputs": [],
   "source": [
    "fringes_0 = 0\n",
    "fringes_02 = fringes_0 + (peaks_02)\n",
    "fringes_24 = fringes_02 + peaks_24\n",
    "fringes_46 = fringes_24 + peaks_46\n",
    "fringes_68 = fringes_46 + peaks_68\n",
    "fringes_810 = fringes_68 + peaks_810\n",
    "fringes = np.array([fringes_0,fringes_02,fringes_24,fringes_46,fringes_68,fringes_810])"
   ]
  },
  {
   "cell_type": "code",
   "execution_count": null,
   "id": "b5a7a694",
   "metadata": {},
   "outputs": [],
   "source": [
    "# Plotten\n",
    "plt.figure(0)\n",
    "plt.plot(df02['X'], df02['CH1'], alpha=0.5, label='Origineel')\n",
    "plt.plot(df02['X'], df02['rolling'], color='red', label=f'Rolling avg ({window_size})')\n",
    "plt.title('0 → 2')\n",
    "plt.legend()\n",
    "\n",
    "plt.figure(1)\n",
    "plt.plot(df24['X'], df24['CH1'], alpha=0.5, label='Origineel')\n",
    "plt.plot(df24['X'], df24['rolling'], color='red', label=f'Rolling avg ({window_size})')\n",
    "plt.title('2 → 4')\n",
    "plt.legend()\n",
    "\n",
    "plt.figure(2)\n",
    "plt.plot(df46['X'], df46['CH1'], alpha=0.5, label='Origineel')\n",
    "plt.plot(df46['X'], df46['rolling'], color='red', label=f'Rolling avg ({window_size})')\n",
    "plt.title('4 → 6')\n",
    "plt.legend()\n",
    "\n",
    "plt.figure(3)\n",
    "plt.plot(df68['X'], df68['CH1'], alpha=0.5, label='Origineel')\n",
    "plt.plot(df68['X'], df68['rolling'], color='red', label=f'Rolling avg ({window_size})')\n",
    "plt.title('6 → 8')\n",
    "plt.legend()\n",
    "\n",
    "plt.figure(4)\n",
    "plt.plot(df810['X'], df810['CH1'], alpha=0.5, label='Origineel')\n",
    "plt.plot(df810['X'], df810['rolling'], color='red', label=f'Rolling avg ({window_size})')\n",
    "plt.title('8 → 10')\n",
    "plt.legend()"
   ]
  },
  {
   "cell_type": "code",
   "execution_count": null,
   "id": "e0ace813",
   "metadata": {},
   "outputs": [],
   "source": [
    "# fit the data\n",
    "popt, pcov = curve_fit(N_fit_suiker, theta_graden, fringes , p0=[1.3])\n",
    "n_fit = popt\n",
    "theta_fit = np.linspace(0,12,100)\n",
    "n_line = N_fit_suiker(theta_fit, *n_fit)\n",
    "\n",
    "# plotting\n",
    "plt.figure(0)\n",
    "plt.scatter(theta_graden, fringes, label='Measured Data', color='red')\n",
    "plt.plot(theta_fit, n_line, label=f'Fitted Curve (n={n_fit[0]:.2f})', color='blue')\n",
    "plt.plot(theta_fit,N_fit_suiker(theta_fit,1.35),label='n = 1.35',color='orange')\n",
    "plt.xlabel('Theta (degrees)')\n",
    "plt.ylabel('N')\n",
    "plt.title('Refractive Index Fit')\n",
    "plt.xlim(0,12)\n",
    "plt.ylim(0,200)          \n",
    "plt.legend()\n",
    "plt.grid()"
   ]
  }
 ],
 "metadata": {
  "kernelspec": {
   "display_name": "Python 3",
   "language": "python",
   "name": "python3"
  },
  "language_info": {
   "codemirror_mode": {
    "name": "ipython",
    "version": 3
   },
   "file_extension": ".py",
   "mimetype": "text/x-python",
   "name": "python",
   "nbconvert_exporter": "python",
   "pygments_lexer": "ipython3",
   "version": "3.11.9"
  }
 },
 "nbformat": 4,
 "nbformat_minor": 5
}
