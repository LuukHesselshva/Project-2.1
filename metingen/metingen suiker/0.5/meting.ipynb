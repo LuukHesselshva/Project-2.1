{
 "cells": [
  {
   "cell_type": "code",
   "execution_count": null,
   "id": "7189de3c",
   "metadata": {},
   "outputs": [],
   "source": [
    "# imports\n",
    "import numpy as np\n",
    "import matplotlib.pyplot as plt\n",
    "from scipy.optimize import curve_fit\n",
    "\n",
    "# constants\n",
    "lambda_laser = 532e-9 # wavelength of the laser in meters\n",
    "\n",
    "d_sugar= 1e-2 # thickness in meters\n",
    "d_cuvett = 1.25e-2 - d_sugar # thickness in meters\n",
    "\n",
    "n_cuvett = 1.59 # refractive index of the cuvett\n",
    "n_air = 1.0 # refractive index of air"
   ]
  },
  {
   "cell_type": "code",
   "execution_count": null,
   "id": "5c702a81",
   "metadata": {},
   "outputs": [],
   "source": [
    "#functions\n",
    "def N_fit_suiker(theta_in,n_sugar):\n",
    "    \"\"\"Function to fit the refractive index data.\"\"\"\n",
    "    theta_in_rad = np.deg2rad(theta_in)\n",
    "    return 2/lambda_laser*(2*d_cuvett*(np.sqrt(n_cuvett**2 -n_air**2*np.sin(theta_in_rad)**2)-n_air*np.cos(theta_in_rad)) + d_sugar*(np.sqrt(n_sugar**2 -n_air**2*np.sin(theta_in_rad)**2)-n_air*np.cos(theta_in_rad))-(2*n_cuvett*d_cuvett + n_sugar*d_sugar - 2*d_cuvett*n_air-d_sugar*n_air))"
   ]
  },
  {
   "cell_type": "code",
   "execution_count": null,
   "id": "3eb66e20",
   "metadata": {},
   "outputs": [],
   "source": [
    "fringes_0 = 0\n",
    "fringes_02 = fringes_0 + 11\n",
    "fringes_24 = fringes_02 + 18\n",
    "fringes_46 = fringes_24 + 34\n",
    "fringes_68 = fringes_46 + 50\n",
    "fringes_810 = fringes_68 + 52\n",
    "fringes = np.array([fringes_0,fringes_02,fringes_24,fringes_46,fringes_68,fringes_810])\n",
    "theta_graden = np.array([0,2,4,6,8,10])"
   ]
  },
  {
   "cell_type": "code",
   "execution_count": null,
   "id": "987a272c",
   "metadata": {},
   "outputs": [],
   "source": [
    "# fit the data\n",
    "popt, pcov = curve_fit(N_fit_suiker, theta_graden, fringes , p0=[1.3])\n",
    "n_fit = popt\n",
    "theta_fit = np.linspace(0,12,100)\n",
    "n_line = N_fit_suiker(theta_fit, *n_fit)\n",
    "\n",
    "# plotting\n",
    "plt.figure(0)\n",
    "plt.scatter(theta_graden, fringes, label='Measured Data', color='red')\n",
    "plt.plot(theta_fit, n_line, label=f'Fitted Curve (n={n_fit[0]:.2f})', color='blue')\n",
    "plt.plot(theta_fit,N_fit_suiker(theta_fit,1.35),label='n = 1.35',color='orange')\n",
    "plt.xlabel('Theta (degrees)')\n",
    "plt.ylabel('N')\n",
    "plt.title('Refractive Index Fit')\n",
    "plt.xlim(0,12)\n",
    "plt.ylim(0,200)          \n",
    "plt.legend()\n",
    "plt.grid()\n",
    "\n",
    "plt.show()"
   ]
  }
 ],
 "metadata": {
  "kernelspec": {
   "display_name": "Python 3",
   "language": "python",
   "name": "python3"
  },
  "language_info": {
   "name": "python",
   "version": "3.11.9"
  }
 },
 "nbformat": 4,
 "nbformat_minor": 5
}
