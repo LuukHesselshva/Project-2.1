{
 "cells": [
  {
   "cell_type": "code",
   "execution_count": 1,
   "id": "1ef9764f",
   "metadata": {},
   "outputs": [],
   "source": [
    "# imports\n",
    "import numpy as np\n",
    "import matplotlib.pyplot as plt\n",
    "from scipy.optimize import curve_fit\n",
    "\n",
    "# constants\n",
    "lambda_laser = 532e-9 # wavelength of the laser in meters\n",
    "thickness = 0.5e-3 # thickness in meters\n",
    "\n",
    "def N_fit(theta_in,n):\n",
    "    \"\"\"Function to fit the refractive index data.\"\"\"\n",
    "    theta_in_rad = np.deg2rad(theta_in)\n",
    "    return ((2*thickness)/lambda_laser) * ( (n**2)/(np.sqrt(n**2-np.sin(theta_in_rad)**2)) - n - np.cos(theta_in_rad) + 1 - (np.sin(theta_in_rad)**(3/2))/n)"
   ]
  },
  {
   "cell_type": "code",
   "execution_count": null,
   "id": "49ff3509",
   "metadata": {},
   "outputs": [],
   "source": [
    "# data\n",
    "theta_measured = np.array([0, 10, 20, 30]) # measured angles in degrees\n",
    "N_measured = np.array([0, 5, 15, 30]) # measured N values\n",
    "\n",
    "# fit the data\n",
    "popt, pcov = curve_fit(N_fit, theta_measured, N_measured , p0=[1.5])\n",
    "n_fit = popt\n",
    "theta_fit = np.linspace(0,80,100)\n",
    "n_line = N_fit(theta_fit, *n_fit)"
   ]
  },
  {
   "cell_type": "code",
   "execution_count": null,
   "id": "271011bd",
   "metadata": {},
   "outputs": [],
   "source": [
    "# plotting\n",
    "plt.Figure(0)\n",
    "plt.scatter(theta_measured, N_measured, label='Measured Data', color='red')\n",
    "plt.plot(theta_fit, n_line, label=f'Fitted Curve (n={n_fit[0]:.2f})', color='blue')\n",
    "plt.xlabel('Theta (degrees)')\n",
    "plt.ylabel('N')\n",
    "plt.title('Refractive Index Fit')\n",
    "plt.legend()\n",
    "plt.grid()\n",
    "\n",
    "plt.show()"
   ]
  }
 ],
 "metadata": {
  "kernelspec": {
   "display_name": "Python 3",
   "language": "python",
   "name": "python3"
  },
  "language_info": {
   "codemirror_mode": {
    "name": "ipython",
    "version": 3
   },
   "file_extension": ".py",
   "mimetype": "text/x-python",
   "name": "python",
   "nbconvert_exporter": "python",
   "pygments_lexer": "ipython3",
   "version": "3.11.9"
  }
 },
 "nbformat": 4,
 "nbformat_minor": 5
}
